{
  "nbformat": 4,
  "nbformat_minor": 0,
  "metadata": {
    "colab": {
      "provenance": [],
      "gpuType": "T4"
    },
    "kernelspec": {
      "name": "python3",
      "display_name": "Python 3"
    },
    "language_info": {
      "name": "python"
    },
    "accelerator": "GPU"
  },
  "cells": [
    {
      "cell_type": "code",
      "execution_count": null,
      "metadata": {
        "colab": {
          "base_uri": "https://localhost:8080/"
        },
        "id": "OI-J6Q-19eF6",
        "outputId": "61025f8a-8412-4b6c-b8fe-31c6920603aa"
      },
      "outputs": [
        {
          "output_type": "stream",
          "name": "stdout",
          "text": [
            "Requirement already satisfied: pandas in /usr/local/lib/python3.10/dist-packages (2.0.3)\n",
            "Collecting fpdf\n",
            "  Downloading fpdf-1.7.2.tar.gz (39 kB)\n",
            "  Preparing metadata (setup.py) ... \u001b[?25l\u001b[?25hdone\n",
            "Requirement already satisfied: python-dateutil>=2.8.2 in /usr/local/lib/python3.10/dist-packages (from pandas) (2.8.2)\n",
            "Requirement already satisfied: pytz>=2020.1 in /usr/local/lib/python3.10/dist-packages (from pandas) (2023.4)\n",
            "Requirement already satisfied: tzdata>=2022.1 in /usr/local/lib/python3.10/dist-packages (from pandas) (2024.1)\n",
            "Requirement already satisfied: numpy>=1.21.0 in /usr/local/lib/python3.10/dist-packages (from pandas) (1.25.2)\n",
            "Requirement already satisfied: six>=1.5 in /usr/local/lib/python3.10/dist-packages (from python-dateutil>=2.8.2->pandas) (1.16.0)\n",
            "Building wheels for collected packages: fpdf\n",
            "  Building wheel for fpdf (setup.py) ... \u001b[?25l\u001b[?25hdone\n",
            "  Created wheel for fpdf: filename=fpdf-1.7.2-py2.py3-none-any.whl size=40702 sha256=442130461cc3d94d1acf09e45b78c24cf2624d4cd0a60157530636c5140235dd\n",
            "  Stored in directory: /root/.cache/pip/wheels/f9/95/ba/f418094659025eb9611f17cbcaf2334236bf39a0c3453ea455\n",
            "Successfully built fpdf\n",
            "Installing collected packages: fpdf\n",
            "Successfully installed fpdf-1.7.2\n"
          ]
        }
      ],
      "source": [
        "pip install pandas fpdf"
      ]
    },
    {
      "cell_type": "code",
      "source": [
        "!pip install reportlab"
      ],
      "metadata": {
        "colab": {
          "base_uri": "https://localhost:8080/"
        },
        "id": "wxaLfTaiAoJT",
        "outputId": "52d70401-81b4-4d29-e9d7-3b86afec0208"
      },
      "execution_count": null,
      "outputs": [
        {
          "output_type": "stream",
          "name": "stdout",
          "text": [
            "Collecting reportlab\n",
            "  Downloading reportlab-4.2.0-py3-none-any.whl (1.9 MB)\n",
            "\u001b[?25l     \u001b[90m━━━━━━━━━━━━━━━━━━━━━━━━━━━━━━━━━━━━━━━━\u001b[0m \u001b[32m0.0/1.9 MB\u001b[0m \u001b[31m?\u001b[0m eta \u001b[36m-:--:--\u001b[0m\r\u001b[2K     \u001b[91m━━━━\u001b[0m\u001b[90m╺\u001b[0m\u001b[90m━━━━━━━━━━━━━━━━━━━━━━━━━━━━━━━━━━━\u001b[0m \u001b[32m0.2/1.9 MB\u001b[0m \u001b[31m5.8 MB/s\u001b[0m eta \u001b[36m0:00:01\u001b[0m\r\u001b[2K     \u001b[90m━━━━━━━━━━━━━━━━━━━━━━━━━━━━━━━━━━━━━━━━\u001b[0m \u001b[32m1.9/1.9 MB\u001b[0m \u001b[31m29.2 MB/s\u001b[0m eta \u001b[36m0:00:00\u001b[0m\n",
            "\u001b[?25hRequirement already satisfied: pillow>=9.0.0 in /usr/local/lib/python3.10/dist-packages (from reportlab) (9.4.0)\n",
            "Requirement already satisfied: chardet in /usr/local/lib/python3.10/dist-packages (from reportlab) (5.2.0)\n",
            "Installing collected packages: reportlab\n",
            "Successfully installed reportlab-4.2.0\n"
          ]
        }
      ]
    },
    {
      "cell_type": "code",
      "source": [
        "import pandas as pd\n",
        "from reportlab.lib.pagesizes import letter\n",
        "from reportlab.pdfgen import canvas\n",
        "from reportlab.lib.styles import getSampleStyleSheet\n",
        "from reportlab.platypus import SimpleDocTemplate, Paragraph, Spacer\n",
        "\n",
        "# Read CSV file\n",
        "df = pd.read_csv('/content/BankFAQs.csv')\n",
        "\n",
        "# Create a PDF document\n",
        "pdf_file = \"questions.pdf\"\n",
        "document = SimpleDocTemplate(pdf_file, pagesize=letter)\n",
        "styles = getSampleStyleSheet()\n",
        "flowables = []\n",
        "\n",
        "# Add a title\n",
        "title = Paragraph(\"Questions and Answers\", styles['Title'])\n",
        "flowables.append(title)\n",
        "flowables.append(Spacer(1, 12))\n",
        "\n",
        "# Loop through the dataframe and add content to the PDF\n",
        "for index, row in df.iterrows():\n",
        "    question = row['Question']\n",
        "    answer = row['Answer']\n",
        "    question_class = row['Class']\n",
        "\n",
        "    question_paragraph = Paragraph(f\"Q: {question}\", styles['Normal'])\n",
        "    answer_paragraph = Paragraph(f\"A: {answer}\", styles['Normal'])\n",
        "    class_paragraph = Paragraph(f\"Class: {question_class}\", styles['Normal'])\n",
        "\n",
        "    flowables.append(question_paragraph)\n",
        "    flowables.append(Spacer(1, 6))\n",
        "    flowables.append(answer_paragraph)\n",
        "    flowables.append(Spacer(1, 6))\n",
        "    flowables.append(class_paragraph)\n",
        "    flowables.append(Spacer(1, 12))\n",
        "\n",
        "# Build the PDF\n",
        "document.build(flowables)"
      ],
      "metadata": {
        "id": "C3ljYeLEAbG8"
      },
      "execution_count": null,
      "outputs": []
    }
  ]
}